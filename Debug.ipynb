{
 "cells": [
  {
   "cell_type": "code",
   "execution_count": null,
   "id": "63dbaac2",
   "metadata": {},
   "outputs": [],
   "source": [
    "import os\n",
    "from sqlalchemy import create_engine\n",
    "from sqlalchemy.orm import sessionmaker\n",
    "from dbb.models import Users, Lessons, UserAnswers , UseCases # Adjust based on your actual models\n",
    "import json\n",
    "\n",
    "# Connect to the production database\n",
    "prod_engine = create_engine(os.environ['DATABASE_URI'])\n",
    "Session = sessionmaker(bind=prod_engine)\n",
    "prod_session = Session()\n",
    "\n",
    "# Function to copy data from production to test database\n",
    "def copy_data_from_prod_to_test():\n",
    "    # Copy Users\n",
    "    prod_users = prod_session.query(Users).all()\n",
    "    for user in prod_users:\n",
    "        db.session.add(Users(id=user.id, username=user.username, email=user.email,\n",
    "                            hashed_password=user.hashed_password, use_case_difficulty=1,\n",
    "                            score=user.score if user.score else 0, is_admin=user.is_admin, lesson_id=user.lesson_id if user.lesson_id else 1))\n",
    "\n",
    "    # Copy lessons\n",
    "    prod_lessons = prod_session.query(Lessons).all()\n",
    "    for lesson in prod_lessons:\n",
    "        db.session.add(Lessons(id=lesson.id, title=lesson.title))\n",
    "\n",
    "    # Copy user answers\n",
    "    prod_user_answers = prod_session.query(UserAnswers).all()\n",
    "    for user_answer in prod_user_answers:\n",
    "        db.session.add(UserAnswers(id=user_answer.id, user_id=user_answer.user_id,\n",
    "                       use_case_id=user_answer.use_case_id, question_id=user_answer.question_id,\n",
    "                       option_id=user_answer.option_id, is_correct=user_answer.is_correct, created_at=user_answer.created_at,\n",
    "                       lesson_id=user_answer.lesson_id\n",
    "        ))\n",
    "\n",
    "    # Copy use cases\n",
    "    prod_use_cases = prod_session.query(UseCases).all()\n",
    "    for use_case in prod_use_cases:\n",
    "        db.session.add(UseCases(id=use_case.id, description=use_case.description,\n",
    "                       type=use_case.type,\n",
    "                        lesson_id=1,\n",
    "                       created_by_user=use_case.created_by_user, risk_factors=json.dumps(use_case.risk_factors)\n",
    "                       , difficulty_id=use_case.difficulty_id,\n",
    "        ))\n",
    "\n",
    "    db.session.commit()"
   ]
  },
  {
   "cell_type": "code",
   "execution_count": null,
   "id": "8da85d9a",
   "metadata": {},
   "outputs": [],
   "source": [
    "import config\n",
    "from datetime import datetime\n",
    "from typing import Any, Dict, Optional\n",
    "\n",
    "import markdown\n",
    "from flask import Flask\n",
    "from flask import current_app as app\n",
    "from flask import jsonify, redirect, render_template, request, session, url_for\n",
    "from flask_login import (LoginManager, UserMixin, current_user, login_required,\n",
    "                         login_user, logout_user)\n",
    "\n",
    "from app import db, create_app\n",
    "from dbb.models import (DifficultyLevel, Lessons, Options, Questions, UseCases,\n",
    "                        UserAnswers, UserLessonInteraction, Users)\n",
    "from config import TestingConfig\n",
    "\n",
    "app = create_app('TestingConfig')\n",
    "app_context = app.app_context()\n",
    "app_context.push()\n",
    "db.create_all()\n",
    "\n",
    "# Populate the test database\n",
    "copy_data_from_prod_to_test()"
   ]
  },
  {
   "cell_type": "code",
   "execution_count": null,
   "id": "893b9473",
   "metadata": {},
   "outputs": [],
   "source": [
    "def find_similar_use_case(current_use_case_id, user_id):\n",
    "    \"\"\"\n",
    "    Finds a use case similar to the current one based on shared risk factors.\n",
    "\n",
    "    This function searches for a use case that shares risk factors with the current use case but has not yet been successfully completed by the user. This can help in recommending similar scenarios for further training or assessment.\n",
    "\n",
    "    Args:\n",
    "        current_use_case_id (int): The ID of the current use case.\n",
    "        user_id (int): The ID of the user for whom similar use cases are being searched.\n",
    "\n",
    "    Returns:\n",
    "        UseCases | None: Returns a similar UseCase object if found, otherwise None.\n",
    "    \"\"\"\n",
    "    current_use_case = UseCases.query.get(current_use_case_id)\n",
    "    if not current_use_case:\n",
    "        return None\n",
    "\n",
    "    current_risk_factors = current_use_case.risk_factors\n",
    "\n",
    "    # Query to find a similar use case based on risk factors\n",
    "    similar_use_case = UseCases.query.filter(\n",
    "        UseCases.id != current_use_case_id,\n",
    "        UseCases.risk_factors.contains(current_risk_factors),\n",
    "        ~UseCases.id.in_(\n",
    "            db.session.query(UserAnswers.use_case_id)\n",
    "            .filter(UserAnswers.user_id == user_id, UserAnswers.is_correct)\n",
    "            .distinct()\n",
    "        ),\n",
    "    ).first()\n",
    "\n",
    "    return similar_use_case"
   ]
  },
  {
   "cell_type": "code",
   "execution_count": null,
   "id": "f85fa48b",
   "metadata": {},
   "outputs": [],
   "source": [
    "current_use_case_id = 2\n",
    "current_use_case = UseCases.query.get(current_use_case_id)\n",
    "current_risk_factors = current_use_case.risk_factors\n",
    "current_risk_factors\n"
   ]
  },
  {
   "cell_type": "code",
   "execution_count": null,
   "id": "63b869a7",
   "metadata": {},
   "outputs": [],
   "source": [
    "json.loads(current_risk_factors)"
   ]
  },
  {
   "cell_type": "code",
   "execution_count": null,
   "id": "6952e89c",
   "metadata": {},
   "outputs": [],
   "source": [
    "json.loads(current_risk_factors)"
   ]
  },
  {
   "cell_type": "code",
   "execution_count": null,
   "id": "f22d0059",
   "metadata": {},
   "outputs": [],
   "source": [
    "db.session.remove()\n",
    "db.drop_all()\n",
    "app_context.pop()"
   ]
  },
  {
   "cell_type": "code",
   "execution_count": null,
   "id": "544c3d7b",
   "metadata": {},
   "outputs": [],
   "source": [
    "import config\n",
    "from datetime import datetime\n",
    "from typing import Any, Dict, Optional\n",
    "\n",
    "import markdown\n",
    "from flask import Flask\n",
    "from flask import current_app as app\n",
    "from flask import jsonify, redirect, render_template, request, session, url_for\n",
    "from flask_login import (LoginManager, UserMixin, current_user, login_required,\n",
    "                         login_user, logout_user)\n",
    "\n",
    "from app import db, create_app\n",
    "from dbb.models import (DifficultyLevel, Lessons, Options, Questions, UseCases,\n",
    "                        UserAnswers, UserLessonInteraction, Users)\n",
    "from config import DevelopmentConfig\n",
    "\n",
    "app = create_app(DevelopmentConfig)"
   ]
  },
  {
   "cell_type": "code",
   "execution_count": null,
   "id": "52c055a2",
   "metadata": {},
   "outputs": [],
   "source": [
    "UseCases.query.filter_by(lesson_id=lesson_id)"
   ]
  }
 ],
 "metadata": {
  "kernelspec": {
   "display_name": "Python 3 (ipykernel)",
   "language": "python",
   "name": "python3"
  },
  "language_info": {
   "codemirror_mode": {
    "name": "ipython",
    "version": 3
   },
   "file_extension": ".py",
   "mimetype": "text/x-python",
   "name": "python",
   "nbconvert_exporter": "python",
   "pygments_lexer": "ipython3",
   "version": "3.11.9"
  }
 },
 "nbformat": 4,
 "nbformat_minor": 5
}
